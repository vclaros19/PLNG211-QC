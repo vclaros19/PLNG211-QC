{
  "nbformat": 4,
  "nbformat_minor": 0,
  "metadata": {
    "colab": {
      "provenance": [],
      "authorship_tag": "ABX9TyPFRQboGW0BFLZAO2qMV2K3",
      "include_colab_link": true
    },
    "kernelspec": {
      "name": "python3",
      "display_name": "Python 3"
    },
    "language_info": {
      "name": "python"
    }
  },
  "cells": [
    {
      "cell_type": "markdown",
      "metadata": {
        "id": "view-in-github",
        "colab_type": "text"
      },
      "source": [
        "<a href=\"https://colab.research.google.com/github/vinceclarenceclaros/PLNG211-QC/blob/main/Claros%2C_Vince_Clarence_Exercise1.ipynb\" target=\"_parent\"><img src=\"https://colab.research.google.com/assets/colab-badge.svg\" alt=\"Open In Colab\"/></a>"
      ]
    },
    {
      "cell_type": "code",
      "execution_count": 31,
      "metadata": {
        "colab": {
          "base_uri": "https://localhost:8080/"
        },
        "id": "A7tWDU9RMwhj",
        "outputId": "5d92194e-8a32-422d-c337-8c5156d2016b"
      },
      "outputs": [
        {
          "output_type": "stream",
          "name": "stdout",
          "text": [
            "The sum of even numbers is: 186\n"
          ]
        }
      ],
      "source": [
        "#Exercise 1\n",
        "sum = 0\n",
        "i = 0\n",
        "array = [26,49,98,87,62,75]\n",
        "while i < len(array):\n",
        "  if(array[i] % 2 == 0):\n",
        "    sum = array[i] + sum\n",
        "  i += 1\n",
        "print(\"The sum of even numbers is:\", sum)"
      ]
    }
  ]
}