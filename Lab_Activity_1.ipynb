{
  "nbformat": 4,
  "nbformat_minor": 0,
  "metadata": {
    "colab": {
      "provenance": [],
      "authorship_tag": "ABX9TyP5KH0t4jniTacrsHCL9HDW",
      "include_colab_link": true
    },
    "kernelspec": {
      "name": "python3",
      "display_name": "Python 3"
    },
    "language_info": {
      "name": "python"
    }
  },
  "cells": [
    {
      "cell_type": "markdown",
      "metadata": {
        "id": "view-in-github",
        "colab_type": "text"
      },
      "source": [
        "<a href=\"https://colab.research.google.com/github/vinceclarenceclaros/PLNG211-QC/blob/main/Lab_Activity_1.ipynb\" target=\"_parent\"><img src=\"https://colab.research.google.com/assets/colab-badge.svg\" alt=\"Open In Colab\"/></a>"
      ]
    },
    {
      "cell_type": "code",
      "execution_count": 11,
      "metadata": {
        "colab": {
          "base_uri": "https://localhost:8080/"
        },
        "id": "cka190NuVEnB",
        "outputId": "67dab5d4-271d-4705-ff42-c6aaa654ecc9"
      },
      "outputs": [
        {
          "output_type": "stream",
          "name": "stdout",
          "text": [
            "Enter the length of the array: 10\n",
            "Enter elements: 1\n",
            "Enter elements: 2\n",
            "Enter elements: 3\n",
            "Enter elements: 4\n",
            "Enter elements: 5\n",
            "Enter elements: 6\n",
            "Enter elements: 7\n",
            "Enter elements: 8\n",
            "Enter elements: 9\n",
            "Enter elements: 10\n",
            "array('i', [1, 2, 3, 4, 5, 6, 7, 8, 9, 10])\n",
            "Sum of all the elements of an array: 55\n"
          ]
        }
      ],
      "source": [
        "from array import *\n",
        "numbers = array(\"i\",[])\n",
        "n = int(input(\"Enter the length of the array: \"))\n",
        "for x in range(n):\n",
        "  x = int(input(\"Enter elements: \"))\n",
        "  numbers.append(x)\n",
        "\n",
        "\n",
        "print(numbers)\n",
        "\n",
        "sum = 0\n",
        "for x in range(n):\n",
        "  sum += numbers[x]\n",
        "\n",
        "print(\"Sum of all the elements of an array: \" + str(sum));    "
      ]
    },
    {
      "cell_type": "code",
      "source": [
        "numbers = [1,2,3,4,5,6,7,8,9,10]\n",
        "\n",
        "x=int(input(\"Enter the new element: \"))\n",
        "numbers.append(x)\n",
        "print(numbers)"
      ],
      "metadata": {
        "colab": {
          "base_uri": "https://localhost:8080/"
        },
        "id": "OjPrIeCqboqO",
        "outputId": "e6a6f8ed-f3bf-4cca-ac69-b79f74440b0c"
      },
      "execution_count": 14,
      "outputs": [
        {
          "output_type": "stream",
          "name": "stdout",
          "text": [
            "Enter the new element: 20\n",
            "[1, 2, 3, 4, 5, 6, 7, 8, 9, 10, 20]\n"
          ]
        }
      ]
    },
    {
      "cell_type": "code",
      "source": [
        "numbers = [1,2,3,4,5,6,7,8,9,10]\n",
        "\n",
        "x=int(input(\"Enter the new element: \"))\n",
        "numbers.insert(1,x)\n",
        "print(numbers)\n"
      ],
      "metadata": {
        "colab": {
          "base_uri": "https://localhost:8080/"
        },
        "id": "4I4PwW9udLKS",
        "outputId": "ba4b79f4-a5fd-4c0b-dd7c-9964741d0e93"
      },
      "execution_count": 15,
      "outputs": [
        {
          "output_type": "stream",
          "name": "stdout",
          "text": [
            "Enter the new element: 25\n",
            "[1, 25, 2, 3, 4, 5, 6, 7, 8, 9, 10]\n"
          ]
        }
      ]
    },
    {
      "cell_type": "code",
      "source": [
        "numbers = [1,2,3,4,5,6,7,8,9,10]\n",
        "\n",
        "reversed = list(reversed(numbers))\n",
        "print(\"Resultant new reversed Array:\",reversed)"
      ],
      "metadata": {
        "colab": {
          "base_uri": "https://localhost:8080/"
        },
        "id": "wQSQlB-pdvR1",
        "outputId": "9449fa35-7c0e-4fe1-82ce-f12c1b65bf50"
      },
      "execution_count": 18,
      "outputs": [
        {
          "output_type": "stream",
          "name": "stdout",
          "text": [
            "Resultant new reversed Array: [10, 9, 8, 7, 6, 5, 4, 3, 2, 1]\n"
          ]
        }
      ]
    },
    {
      "cell_type": "code",
      "source": [
        "numbers = [1,2,3,4,5,6,7,8,9,10]\n",
        "\n",
        "length = len(numbers)\n",
        "\n",
        "print(\"The length of the array is:\",length)"
      ],
      "metadata": {
        "colab": {
          "base_uri": "https://localhost:8080/"
        },
        "id": "8FvTizrZxK6q",
        "outputId": "d48f31b2-613a-4712-d9a9-1d1aeb3e61c2"
      },
      "execution_count": 21,
      "outputs": [
        {
          "output_type": "stream",
          "name": "stdout",
          "text": [
            "The length of the array is: 10\n"
          ]
        }
      ]
    }
  ]
}