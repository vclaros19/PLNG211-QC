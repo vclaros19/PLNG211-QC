{
  "nbformat": 4,
  "nbformat_minor": 0,
  "metadata": {
    "colab": {
      "provenance": [],
      "authorship_tag": "ABX9TyNi2Jl542Cu+MaZZMifFY9Q",
      "include_colab_link": true
    },
    "kernelspec": {
      "name": "python3",
      "display_name": "Python 3"
    },
    "language_info": {
      "name": "python"
    }
  },
  "cells": [
    {
      "cell_type": "markdown",
      "metadata": {
        "id": "view-in-github",
        "colab_type": "text"
      },
      "source": [
        "<a href=\"https://colab.research.google.com/github/vinceclarenceclaros/PLNG211-QC/blob/main/Asynchronous_Activity.ipynb\" target=\"_parent\"><img src=\"https://colab.research.google.com/assets/colab-badge.svg\" alt=\"Open In Colab\"/></a>"
      ]
    },
    {
      "cell_type": "markdown",
      "source": [
        "Asynchronous Activity"
      ],
      "metadata": {
        "id": "Tg_dEX0MKrzY"
      }
    },
    {
      "cell_type": "code",
      "source": [
        "#Asynchronous Activity\n",
        "Salary_rate = 600\n",
        "Salary = Salary_rate * 15; #days\n",
        "Taxable_amount = Salary * 0.3\n",
        "Net_pay = Salary - Taxable_amount\n",
        "\n",
        "\n",
        "\n",
        "print(\"Net Pay = \", Net_pay)"
      ],
      "metadata": {
        "colab": {
          "base_uri": "https://localhost:8080/"
        },
        "id": "vpMnpFh1Kgm0",
        "outputId": "32e20a30-9e38-4301-96a6-7809ba57c7dc"
      },
      "execution_count": null,
      "outputs": [
        {
          "output_type": "stream",
          "name": "stdout",
          "text": [
            "Net Pay =  6300.0\n"
          ]
        }
      ]
    }
  ]
}