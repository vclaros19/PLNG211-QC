{
  "nbformat": 4,
  "nbformat_minor": 0,
  "metadata": {
    "colab": {
      "provenance": [],
      "authorship_tag": "ABX9TyNGIDglAVX4n87Y6Df/wudA",
      "include_colab_link": true
    },
    "kernelspec": {
      "name": "python3",
      "display_name": "Python 3"
    },
    "language_info": {
      "name": "python"
    }
  },
  "cells": [
    {
      "cell_type": "markdown",
      "metadata": {
        "id": "view-in-github",
        "colab_type": "text"
      },
      "source": [
        "<a href=\"https://colab.research.google.com/github/vinceclarenceclaros/PLNG211-QC/blob/main/Asynchronous_Activity.ipynb\" target=\"_parent\"><img src=\"https://colab.research.google.com/assets/colab-badge.svg\" alt=\"Open In Colab\"/></a>"
      ]
    },
    {
      "cell_type": "markdown",
      "source": [
        "Asynchronous Activity"
      ],
      "metadata": {
        "id": "Tg_dEX0MKrzY"
      }
    },
    {
      "cell_type": "code",
      "source": [
        "Salary_rate = 600\n",
        "Salary = Salary_rate * 15;\n",
        "Taxable_amount = Salary * 0.3\n",
        "Net_pay = Salary - Taxable_amount\n",
        "\n",
        "\n",
        "print(\"Salary Rate = \",Salary_rate)\n",
        "print(\"Salary for 15 days = \", Salary)\n",
        "print(\"Taxable Amount = \", Salary *0.30)\n",
        "print(\"Net Pay = \", Salary - Taxable_amount)"
      ],
      "metadata": {
        "colab": {
          "base_uri": "https://localhost:8080/"
        },
        "id": "vpMnpFh1Kgm0",
        "outputId": "bb5dea1d-97f7-4dad-e2ed-f42770685080"
      },
      "execution_count": 24,
      "outputs": [
        {
          "output_type": "stream",
          "name": "stdout",
          "text": [
            "Salary Rate =  600\n",
            "Salary for 15 days =  9000\n",
            "Taxable Amount =  2700.0\n",
            "Net Pay =  6300.0\n"
          ]
        }
      ]
    }
  ]
}