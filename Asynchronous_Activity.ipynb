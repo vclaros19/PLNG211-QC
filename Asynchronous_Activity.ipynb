{
  "nbformat": 4,
  "nbformat_minor": 0,
  "metadata": {
    "colab": {
      "provenance": [],
      "authorship_tag": "ABX9TyPnqrkU+sTUG+a87capVXN1",
      "include_colab_link": true
    },
    "kernelspec": {
      "name": "python3",
      "display_name": "Python 3"
    },
    "language_info": {
      "name": "python"
    }
  },
  "cells": [
    {
      "cell_type": "markdown",
      "metadata": {
        "id": "view-in-github",
        "colab_type": "text"
      },
      "source": [
        "<a href=\"https://colab.research.google.com/github/vinceclarenceclaros/PLNG211-QC/blob/main/Asynchronous_Activity.ipynb\" target=\"_parent\"><img src=\"https://colab.research.google.com/assets/colab-badge.svg\" alt=\"Open In Colab\"/></a>"
      ]
    },
    {
      "cell_type": "code",
      "source": [
        "for var in range(2,5+1):\n",
        "  print(var)"
      ],
      "metadata": {
        "id": "uU5UPeuxprUC"
      },
      "execution_count": null,
      "outputs": []
    },
    {
      "cell_type": "code",
      "source": [
        "x = 0\n",
        "while x < 5:\n",
        "  for y in range (0,x):\n",
        "    print(y, end='')\n",
        "  x+=1  \n",
        "  print()"
      ],
      "metadata": {
        "id": "mlGT5I8PprSI"
      },
      "execution_count": null,
      "outputs": []
    },
    {
      "cell_type": "code",
      "source": [
        "varList = [1,2,3,4,5,6,7,8,9,10]\n",
        "print(varList)\n",
        "\n",
        "print(varList[5:])\n",
        "\n",
        "print(varList[:-2])\n",
        "\n",
        "print(varList[:-2])\n",
        "\n",
        "print(varList[2:-2])\n",
        "\n",
        "print(varList[2:8:2])"
      ],
      "metadata": {
        "id": "cN0DdsvsprOA"
      },
      "execution_count": null,
      "outputs": []
    },
    {
      "cell_type": "code",
      "source": [
        "var1, var2, var3 = \"ABC\", \"DEF\", \"GFi\"\n",
        "\n",
        "print(var1)\n",
        "print(var2)\n",
        "print(var3)\n",
        "\n",
        "a, b, c = 1 , 2 ,3\n",
        "\n",
        "print(a)\n",
        "print(b)\n",
        "print(c)"
      ],
      "metadata": {
        "id": "R9DS0ptqprLv"
      },
      "execution_count": null,
      "outputs": []
    },
    {
      "cell_type": "markdown",
      "source": [
        "Asynchronous Activity"
      ],
      "metadata": {
        "id": "Tg_dEX0MKrzY"
      }
    },
    {
      "cell_type": "code",
      "source": [
        "#Asynchronous Activity\n",
        "Salary_rate = 600\n",
        "Salary = Salary_rate * 15; #days\n",
        "Taxable_amount = Salary * 0.3\n",
        "Net_pay = Salary - Taxable_amount\n",
        "\n",
        "\n",
        "\n",
        "print(\"Net Pay = \", Net_pay)"
      ],
      "metadata": {
        "colab": {
          "base_uri": "https://localhost:8080/"
        },
        "id": "vpMnpFh1Kgm0",
        "outputId": "32e20a30-9e38-4301-96a6-7809ba57c7dc"
      },
      "execution_count": null,
      "outputs": [
        {
          "output_type": "stream",
          "name": "stdout",
          "text": [
            "Net Pay =  6300.0\n"
          ]
        }
      ]
    }
  ]
}