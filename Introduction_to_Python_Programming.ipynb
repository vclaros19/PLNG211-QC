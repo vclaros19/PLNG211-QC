{
  "nbformat": 4,
  "nbformat_minor": 0,
  "metadata": {
    "colab": {
      "provenance": [],
      "authorship_tag": "ABX9TyOPLaFxCiZWvMLUP9RZU7Rz",
      "include_colab_link": true
    },
    "kernelspec": {
      "name": "python3",
      "display_name": "Python 3"
    },
    "language_info": {
      "name": "python"
    }
  },
  "cells": [
    {
      "cell_type": "markdown",
      "metadata": {
        "id": "view-in-github",
        "colab_type": "text"
      },
      "source": [
        "<a href=\"https://colab.research.google.com/github/vinceclarenceclaros/PLNG211-QC/blob/main/Introduction_to_Python_Programming.ipynb\" target=\"_parent\"><img src=\"https://colab.research.google.com/assets/colab-badge.svg\" alt=\"Open In Colab\"/></a>"
      ]
    },
    {
      "cell_type": "markdown",
      "source": [
        "Python Indentation"
      ],
      "metadata": {
        "id": "LnKZpv14rDta"
      }
    },
    {
      "cell_type": "code",
      "source": [
        "#This is an example of Python Indentation\n",
        "if 5>2:\n",
        "  print(\"5 is greater than 2\")"
      ],
      "metadata": {
        "id": "vpg3XBaWwCru"
      },
      "execution_count": null,
      "outputs": []
    },
    {
      "cell_type": "markdown",
      "source": [
        "Variable\n"
      ],
      "metadata": {
        "id": "ijy9KIriwDLW"
      }
    },
    {
      "cell_type": "code",
      "source": [
        "x = 1\n",
        "a,b,=0,-1\n",
        "a=9\n",
        "c = \"sally\"\n",
        "c = \"danny\"\n",
        "print(a)\n",
        "print(c)\n",
        "c = \"Maria\"\n",
        "print(c)\n",
        "\n"
      ],
      "metadata": {
        "colab": {
          "base_uri": "https://localhost:8080/"
        },
        "id": "P-xhwFHxwNaj",
        "outputId": "c93aa11f-ea98-4e79-ab0a-c3cb621a619d"
      },
      "execution_count": 9,
      "outputs": [
        {
          "output_type": "stream",
          "name": "stdout",
          "text": [
            "9\n",
            "danny\n",
            "Maria\n"
          ]
        }
      ]
    },
    {
      "cell_type": "markdown",
      "source": [
        "Casting"
      ],
      "metadata": {
        "id": "I-0-Y3uY0h9t"
      }
    },
    {
      "cell_type": "code",
      "source": [
        "d = int(4)\n",
        "print(d)\n",
        "e = float(4)\n",
        "print(e)"
      ],
      "metadata": {
        "colab": {
          "base_uri": "https://localhost:8080/"
        },
        "id": "pNxlT6Cs0lLo",
        "outputId": "8e5171b2-ba0b-4976-9e8f-deb2566ef49b"
      },
      "execution_count": 11,
      "outputs": [
        {
          "output_type": "stream",
          "name": "stdout",
          "text": [
            "4\n",
            "4.0\n"
          ]
        }
      ]
    },
    {
      "cell_type": "markdown",
      "source": [
        "Type () function"
      ],
      "metadata": {
        "id": "wA-i1N5l6o34"
      }
    },
    {
      "cell_type": "code",
      "source": [
        "print(type(d))\n",
        "print(type(e))"
      ],
      "metadata": {
        "colab": {
          "base_uri": "https://localhost:8080/"
        },
        "id": "SBW9j3NQ6sDV",
        "outputId": "b2ea5ded-b869-48df-9d8b-ee6096746001"
      },
      "execution_count": 13,
      "outputs": [
        {
          "output_type": "stream",
          "name": "stdout",
          "text": [
            "<class 'int'>\n",
            "<class 'float'>\n"
          ]
        }
      ]
    },
    {
      "cell_type": "markdown",
      "source": [
        "Single Quote or Double Quote"
      ],
      "metadata": {
        "id": "nsdFVLuk6508"
      }
    },
    {
      "cell_type": "code",
      "source": [
        "f=\"Maria\"\n",
        "print(f)\n",
        "g = 'Ana'\n",
        "print(g)"
      ],
      "metadata": {
        "colab": {
          "base_uri": "https://localhost:8080/"
        },
        "id": "SLVIQkJb7HZS",
        "outputId": "7def0495-f81e-4f05-b1fe-b26c2caed790"
      },
      "execution_count": 15,
      "outputs": [
        {
          "output_type": "stream",
          "name": "stdout",
          "text": [
            "Maria\n",
            "Ana\n"
          ]
        }
      ]
    },
    {
      "cell_type": "markdown",
      "source": [
        "Multiple Variables"
      ],
      "metadata": {
        "id": "8rs7twA97iBA"
      }
    },
    {
      "cell_type": "code",
      "source": [
        "x,y,z = 4,5,6\n",
        "print(x)\n",
        "print(y)\n",
        "print(z)"
      ],
      "metadata": {
        "colab": {
          "base_uri": "https://localhost:8080/"
        },
        "id": "bnxzX70g7kOZ",
        "outputId": "86d6106b-b922-46b8-ecbf-3be5c9803667"
      },
      "execution_count": 16,
      "outputs": [
        {
          "output_type": "stream",
          "name": "stdout",
          "text": [
            "4\n",
            "5\n",
            "6\n"
          ]
        }
      ]
    },
    {
      "cell_type": "markdown",
      "source": [
        "Single Value to a Multiple Variables"
      ],
      "metadata": {
        "id": "z4upiI177vto"
      }
    },
    {
      "cell_type": "code",
      "source": [
        "x=y=z=\"Lilo\"\n",
        "print(x)\n",
        "print(y)\n",
        "print(z)"
      ],
      "metadata": {
        "colab": {
          "base_uri": "https://localhost:8080/"
        },
        "id": "PPSGXY3S7066",
        "outputId": "c2d9c3ad-d25e-4644-d42a-44fb210db165"
      },
      "execution_count": 17,
      "outputs": [
        {
          "output_type": "stream",
          "name": "stdout",
          "text": [
            "Lilo\n",
            "Lilo\n",
            "Lilo\n"
          ]
        }
      ]
    },
    {
      "cell_type": "markdown",
      "source": [
        "Output Variable Using Print and +"
      ],
      "metadata": {
        "id": "ybXtQy_M8Iks"
      }
    },
    {
      "cell_type": "code",
      "source": [
        "s=\"Python is\"\n",
        "t=\"enjoying\"\n",
        "print(\"Python is\" + \" \"+t)\n",
        "\n",
        "\n",
        "print(s+' '+t)"
      ],
      "metadata": {
        "colab": {
          "base_uri": "https://localhost:8080/"
        },
        "id": "2yiGV5ib8PLw",
        "outputId": "f82594fd-2254-4eec-a161-5390d993466e"
      },
      "execution_count": 20,
      "outputs": [
        {
          "output_type": "stream",
          "name": "stdout",
          "text": [
            "Python is enjoying\n",
            "Python is enjoying\n"
          ]
        }
      ]
    },
    {
      "cell_type": "markdown",
      "source": [
        "Arithmetic"
      ],
      "metadata": {
        "id": "qkJBm9Kr0stK"
      }
    },
    {
      "cell_type": "code",
      "source": [
        "x = 1 \n",
        "y = 2\n",
        "sum = x+y\n",
        "print(x)\n",
        "print(y)\n",
        "print(sum)\n",
        "\n",
        "#modulo division\n",
        "l = 4%2\n",
        "print(\"4%2= \",l)\n",
        "\n",
        "#floor division\n",
        "\n",
        "k=4//2\n",
        "print(\"4//2=\",k)"
      ],
      "metadata": {
        "colab": {
          "base_uri": "https://localhost:8080/"
        },
        "id": "gdJbGTr10Xpv",
        "outputId": "148a3e52-750a-482f-81ae-76c034bcf1a4"
      },
      "execution_count": 23,
      "outputs": [
        {
          "output_type": "stream",
          "name": "stdout",
          "text": [
            "1\n",
            "2\n",
            "3\n",
            "4%2=  0\n",
            "4//2= 2\n"
          ]
        }
      ]
    },
    {
      "cell_type": "markdown",
      "source": [
        "Assignment Operator"
      ],
      "metadata": {
        "id": "Xd4P-_339zv-"
      }
    },
    {
      "cell_type": "code",
      "source": [
        "x = 1 \n",
        "x+=1\n",
        "print(x)"
      ],
      "metadata": {
        "colab": {
          "base_uri": "https://localhost:8080/"
        },
        "id": "5zuQdiVX85-f",
        "outputId": "097f3b7d-b0fd-490a-cd45-94cda09c6e8a"
      },
      "execution_count": 24,
      "outputs": [
        {
          "output_type": "stream",
          "name": "stdout",
          "text": [
            "2\n"
          ]
        }
      ]
    },
    {
      "cell_type": "markdown",
      "source": [
        "Logical Operator"
      ],
      "metadata": {
        "id": "-20Yaa0o9_8m"
      }
    },
    {
      "cell_type": "code",
      "source": [
        "q = 1\n",
        "r = 4 \n",
        "q>r and r==r\n"
      ],
      "metadata": {
        "colab": {
          "base_uri": "https://localhost:8080/"
        },
        "id": "4vUe8MAd98gI",
        "outputId": "51f54acd-6803-4dd4-9245-dbb0c36054b6"
      },
      "execution_count": 25,
      "outputs": [
        {
          "output_type": "execute_result",
          "data": {
            "text/plain": [
              "False"
            ]
          },
          "metadata": {},
          "execution_count": 25
        }
      ]
    }
  ]
}