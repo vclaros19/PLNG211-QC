{
  "nbformat": 4,
  "nbformat_minor": 0,
  "metadata": {
    "colab": {
      "provenance": [],
      "authorship_tag": "ABX9TyPEPzje+l6jS7PuLNiWiYrc",
      "include_colab_link": true
    },
    "kernelspec": {
      "name": "python3",
      "display_name": "Python 3"
    },
    "language_info": {
      "name": "python"
    }
  },
  "cells": [
    {
      "cell_type": "markdown",
      "metadata": {
        "id": "view-in-github",
        "colab_type": "text"
      },
      "source": [
        "<a href=\"https://colab.research.google.com/github/vinceclarenceclaros/PLNG211-QC/blob/main/Loop_Statement.ipynb\" target=\"_parent\"><img src=\"https://colab.research.google.com/assets/colab-badge.svg\" alt=\"Open In Colab\"/></a>"
      ]
    },
    {
      "cell_type": "code",
      "execution_count": 7,
      "metadata": {
        "colab": {
          "base_uri": "https://localhost:8080/"
        },
        "id": "aYzsHn7rzERZ",
        "outputId": "1cab8f29-5f39-4457-f234-edb242f4a671"
      },
      "outputs": [
        {
          "output_type": "stream",
          "name": "stdout",
          "text": [
            "1\n",
            "2\n",
            "3\n"
          ]
        }
      ],
      "source": [
        "#Break Statement\n",
        "i = 1\n",
        "while i<6:\n",
        "  print(i)\n",
        "  if i == 3:\n",
        "    break\n",
        "  print(i)\n",
        "  i+=1      #increment, i = i + 1\n"
      ]
    },
    {
      "cell_type": "code",
      "source": [
        "#Break Statement Application 1\n",
        "# Display only 3\n",
        "\n",
        "while i<6:\n",
        "  \n",
        "  if i == 3:\n",
        "    print(i)\n",
        "    break\n",
        "  i+=1      #increment, i = i + 1\n"
      ],
      "metadata": {
        "colab": {
          "base_uri": "https://localhost:8080/"
        },
        "id": "k5q6FR2l3n7o",
        "outputId": "1e0dbf6a-c5fd-4c9e-d7af-b432bce82855"
      },
      "execution_count": 3,
      "outputs": [
        {
          "output_type": "stream",
          "name": "stdout",
          "text": [
            "3\n"
          ]
        }
      ]
    },
    {
      "cell_type": "code",
      "source": [
        "#Continue Statement\n",
        "i = 0\n",
        "while i<6:\n",
        "  i+=1 \n",
        "  if i == 3:\n",
        "    continue\n",
        "  print(i)\n",
        "       #increment, i = i + 1\n"
      ],
      "metadata": {
        "colab": {
          "base_uri": "https://localhost:8080/"
        },
        "id": "xANpSTCe5f_2",
        "outputId": "e9049698-f6f5-49a0-97b6-3e95c98ee7f9"
      },
      "execution_count": 12,
      "outputs": [
        {
          "output_type": "stream",
          "name": "stdout",
          "text": [
            "1\n",
            "2\n",
            "4\n",
            "5\n",
            "6\n"
          ]
        }
      ]
    },
    {
      "cell_type": "code",
      "source": [
        "#Else Statement\n",
        "i = 1\n",
        "while i < 6:\n",
        "  print(i)\n",
        "  i+=1\n",
        "else:\n",
        "  print(\"i is no longer less than 6\")"
      ],
      "metadata": {
        "colab": {
          "base_uri": "https://localhost:8080/"
        },
        "id": "YmLyCN2h62hd",
        "outputId": "f38f3c67-1c72-4232-a103-8fd5f08eb2c9"
      },
      "execution_count": 13,
      "outputs": [
        {
          "output_type": "stream",
          "name": "stdout",
          "text": [
            "1\n",
            "2\n",
            "3\n",
            "4\n",
            "5\n",
            "i is no longer less than 6\n"
          ]
        }
      ]
    },
    {
      "cell_type": "code",
      "source": [
        "#Application 2\n",
        "x = 0\n",
        "while x <= 10:\n",
        "  print(\"Hello \", x)\n",
        "  x += 1"
      ],
      "metadata": {
        "colab": {
          "base_uri": "https://localhost:8080/"
        },
        "id": "7cYVgw8f7qkQ",
        "outputId": "199fa68d-7973-4863-cff1-2a4174c2604b"
      },
      "execution_count": 20,
      "outputs": [
        {
          "output_type": "stream",
          "name": "stdout",
          "text": [
            "Hello  0\n",
            "Hello  1\n",
            "Hello  2\n",
            "Hello  3\n",
            "Hello  4\n",
            "Hello  5\n",
            "Hello  6\n",
            "Hello  7\n",
            "Hello  8\n",
            "Hello  9\n",
            "Hello  10\n"
          ]
        }
      ]
    },
    {
      "cell_type": "code",
      "source": [
        "for i in range(0,11):\n",
        "  print(f\"Hello {i}\")"
      ],
      "metadata": {
        "colab": {
          "base_uri": "https://localhost:8080/"
        },
        "id": "abcsE2jN-CgX",
        "outputId": "95d72e0d-e2de-4c85-ecaa-fbedf1a96171"
      },
      "execution_count": 22,
      "outputs": [
        {
          "output_type": "stream",
          "name": "stdout",
          "text": [
            "Hello 0\n",
            "Hello 1\n",
            "Hello 2\n",
            "Hello 3\n",
            "Hello 4\n",
            "Hello 5\n",
            "Hello 6\n",
            "Hello 7\n",
            "Hello 8\n",
            "Hello 9\n",
            "Hello 10\n"
          ]
        }
      ]
    },
    {
      "cell_type": "code",
      "source": [
        "#Application 3\n",
        "#Create a Python program that displays integer less than 10 but not less than 3 (9,8,7,6,5,4,3)\n",
        "#for i in range(3,10):\n",
        " # print(i)\n",
        "\n",
        "i = 9\n",
        "while i<10 and i >=3:\n",
        "  print(i)\n",
        "  i-=1"
      ],
      "metadata": {
        "colab": {
          "base_uri": "https://localhost:8080/"
        },
        "id": "Ss9vHds8-S5Y",
        "outputId": "f6174c5f-c50a-4aa3-c3a4-dbeb0eb2e117"
      },
      "execution_count": 27,
      "outputs": [
        {
          "output_type": "stream",
          "name": "stdout",
          "text": [
            "9\n",
            "8\n",
            "7\n",
            "6\n",
            "5\n",
            "4\n",
            "3\n"
          ]
        }
      ]
    }
  ]
}