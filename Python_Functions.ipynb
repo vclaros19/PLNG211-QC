{
  "nbformat": 4,
  "nbformat_minor": 0,
  "metadata": {
    "colab": {
      "provenance": [],
      "authorship_tag": "ABX9TyNyR+cD3BgW++sJM5W2DGCW",
      "include_colab_link": true
    },
    "kernelspec": {
      "name": "python3",
      "display_name": "Python 3"
    },
    "language_info": {
      "name": "python"
    }
  },
  "cells": [
    {
      "cell_type": "markdown",
      "metadata": {
        "id": "view-in-github",
        "colab_type": "text"
      },
      "source": [
        "<a href=\"https://colab.research.google.com/github/vinceclarenceclaros/PLNG211-QC/blob/main/Python_Functions.ipynb\" target=\"_parent\"><img src=\"https://colab.research.google.com/assets/colab-badge.svg\" alt=\"Open In Colab\"/></a>"
      ]
    },
    {
      "cell_type": "code",
      "execution_count": null,
      "metadata": {
        "colab": {
          "base_uri": "https://localhost:8080/"
        },
        "id": "oF6VuzYAHWmn",
        "outputId": "21f90f17-a472-4a59-88fe-2585dafbf38e"
      },
      "outputs": [
        {
          "output_type": "stream",
          "name": "stdout",
          "text": [
            "100\n",
            "Celcius 37.78\n",
            "Kelvin 310.93\n"
          ]
        }
      ],
      "source": [
        "#Writing your own function/conversion\n",
        "def convert_to_celcius(fahrenheit):\n",
        "  return (fahrenheit-32) * 5/9\n",
        "\n",
        "def convert_to_kelvin(fahrenheit):\n",
        "  return (fahrenheit-32) * 5/9 +273.15\n",
        "\n",
        "fahrenheit = int(input())\n",
        "print(\"Celcius\",round(convert_to_celcius(fahrenheit),2))\n",
        "print(\"Kelvin\",round(convert_to_kelvin(fahrenheit),2))"
      ]
    },
    {
      "cell_type": "code",
      "source": [
        "def Name():\n",
        "  pass"
      ],
      "metadata": {
        "id": "s51nKJAZRZEK"
      },
      "execution_count": null,
      "outputs": []
    },
    {
      "cell_type": "code",
      "source": [
        "def my_function(fname):\n",
        "  print(fname + \"Sayo\")\n",
        "\n",
        "my_function(\"Mam\")\n",
        "my_function(\"Maria\")\n",
        "my_function(\"Rizette\")"
      ],
      "metadata": {
        "colab": {
          "base_uri": "https://localhost:8080/"
        },
        "id": "7A6wJLD2Q3O5",
        "outputId": "d29e5de8-798e-4454-b06d-2f584359f22f"
      },
      "execution_count": null,
      "outputs": [
        {
          "output_type": "stream",
          "name": "stdout",
          "text": [
            "Mam\tSayo\n",
            "MariaSayo\n",
            "RizetteSayo\n"
          ]
        }
      ]
    },
    {
      "cell_type": "code",
      "source": [
        "#Returns a value\n",
        "\n",
        "def myFunction(x):\n",
        "  return(5+x)\n",
        "\n",
        "print(myFunction(4))\n",
        "print(myFunction(5))\n",
        "print(myFunction(6))"
      ],
      "metadata": {
        "colab": {
          "base_uri": "https://localhost:8080/"
        },
        "id": "q8pGE9F0SOmG",
        "outputId": "19d9a4cd-c25a-4c29-fd04-a3b01d5cfb6f"
      },
      "execution_count": null,
      "outputs": [
        {
          "output_type": "stream",
          "name": "stdout",
          "text": [
            "9\n",
            "10\n",
            "11\n"
          ]
        }
      ]
    },
    {
      "cell_type": "code",
      "source": [
        "#Exercise 1\n",
        "print(min(2,3,4))\n",
        "print(max(2,-3,4,7,-5))\n",
        "print(min(2,-3,min(4,7),-5))"
      ],
      "metadata": {
        "colab": {
          "base_uri": "https://localhost:8080/"
        },
        "id": "5gR725JDSxyY",
        "outputId": "dcf1aaed-9452-4a19-89a9-f6c95fc79bb1"
      },
      "execution_count": null,
      "outputs": [
        {
          "output_type": "stream",
          "name": "stdout",
          "text": [
            "2\n",
            "7\n",
            "-5\n"
          ]
        }
      ]
    },
    {
      "cell_type": "code",
      "source": [
        "#Exercise 2\n",
        "def sum(x,y,z):\n",
        "  sum = 0\n",
        "  sum = x+y+z\n",
        "  return sum\n",
        "\n",
        "def average(x,y,z):\n",
        "  sum = 0\n",
        "  sum = x+y+z\n",
        "  ave = sum / 3\n",
        "  return ave\n",
        "\n",
        "def sum_of_squares(x,y,z):\n",
        "  sum = 0\n",
        "  sum = (x**2)+(y**2)+(z**2)\n",
        "  return sum\n",
        "\n",
        "sum\n",
        "x = int(input())\n",
        "y = int(input())\n",
        "z = int(input())\n",
        "print(\"Sum =\", sum(x,y,z))\n",
        "print(\"Average = \", round(average(x,y,z),2))\n",
        "print(\"Sum of squares = \",sum_of_squares(x,y,z))"
      ],
      "metadata": {
        "colab": {
          "base_uri": "https://localhost:8080/"
        },
        "id": "1eLaPAnWTdmG",
        "outputId": "b1520d7f-83d6-4b0d-9979-6e71c68af49d"
      },
      "execution_count": 44,
      "outputs": [
        {
          "output_type": "stream",
          "name": "stdout",
          "text": [
            "3\n",
            "5\n",
            "7\n",
            "Sum = 15\n",
            "Average =  5.0\n",
            "Sum of squares =  83\n"
          ]
        }
      ]
    }
  ]
}