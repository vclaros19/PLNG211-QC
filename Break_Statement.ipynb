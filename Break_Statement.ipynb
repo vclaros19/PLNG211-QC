{
  "nbformat": 4,
  "nbformat_minor": 0,
  "metadata": {
    "colab": {
      "provenance": [],
      "authorship_tag": "ABX9TyOWzhJGppZqf6QjrVYhmrrp",
      "include_colab_link": true
    },
    "kernelspec": {
      "name": "python3",
      "display_name": "Python 3"
    },
    "language_info": {
      "name": "python"
    }
  },
  "cells": [
    {
      "cell_type": "markdown",
      "metadata": {
        "id": "view-in-github",
        "colab_type": "text"
      },
      "source": [
        "<a href=\"https://colab.research.google.com/github/vinceclarenceclaros/PLNG211-QC/blob/main/Break_Statement.ipynb\" target=\"_parent\"><img src=\"https://colab.research.google.com/assets/colab-badge.svg\" alt=\"Open In Colab\"/></a>"
      ]
    },
    {
      "cell_type": "code",
      "execution_count": 1,
      "metadata": {
        "colab": {
          "base_uri": "https://localhost:8080/"
        },
        "id": "aYzsHn7rzERZ",
        "outputId": "f8dfda99-03f2-4066-c8e9-60f39a739ac6"
      },
      "outputs": [
        {
          "output_type": "stream",
          "name": "stdout",
          "text": [
            "1\n",
            "2\n",
            "3\n"
          ]
        }
      ],
      "source": [
        "#Break Statement\n",
        "i = 1\n",
        "while 1<6:\n",
        "  print(i)\n",
        "  if i == 3:\n",
        "    break\n",
        "  i+=1      #increment, i = i + 1\n"
      ]
    },
    {
      "cell_type": "code",
      "source": [
        "#Break Statement Application 1\n",
        "# Display only 3\n",
        "\n",
        "while 1<6:\n",
        "  \n",
        "  if i == 3:\n",
        "    print(i)\n",
        "    break\n",
        "  i+=1      #increment, i = i + 1\n"
      ],
      "metadata": {
        "colab": {
          "base_uri": "https://localhost:8080/"
        },
        "id": "k5q6FR2l3n7o",
        "outputId": "d5369d4a-e9b2-4506-f59a-6a4931ed6c77"
      },
      "execution_count": 2,
      "outputs": [
        {
          "output_type": "stream",
          "name": "stdout",
          "text": [
            "3\n"
          ]
        }
      ]
    }
  ]
}